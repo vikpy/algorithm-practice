{
  "nbformat": 4,
  "nbformat_minor": 0,
  "metadata": {
    "colab": {
      "name": "Basic Q Learning",
      "provenance": [],
      "collapsed_sections": [],
      "authorship_tag": "ABX9TyPAlV+Z46YTj2jNnT4/XXy0",
      "include_colab_link": true
    },
    "kernelspec": {
      "name": "python3",
      "display_name": "Python 3"
    }
  },
  "cells": [
    {
      "cell_type": "markdown",
      "metadata": {
        "id": "view-in-github",
        "colab_type": "text"
      },
      "source": [
        "<a href=\"https://colab.research.google.com/github/vikpy/algorithm-practice/blob/master/Basic_Q_Learning.ipynb\" target=\"_parent\"><img src=\"https://colab.research.google.com/assets/colab-badge.svg\" alt=\"Open In Colab\"/></a>"
      ]
    },
    {
      "cell_type": "markdown",
      "metadata": {
        "id": "x5EWcm6Vcm3v"
      },
      "source": [
        "#[Link to medium](https://towardsdatascience.com/simple-reinforcement-learning-q-learning-fcddc4b6fe56) "
      ]
    },
    {
      "cell_type": "code",
      "metadata": {
        "id": "zmAc6bIvMdk5"
      },
      "source": [
        "import numpy as np \n",
        "state_size , action_size = 10, 10 \n",
        "Q = np.zeros( (state_size , action_size) )"
      ],
      "execution_count": null,
      "outputs": []
    }
  ]
}